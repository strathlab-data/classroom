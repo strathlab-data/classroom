{
 "cells": [
  {
   "cell_type": "markdown",
   "metadata": {},
   "source": [
    "# Test Notebook"
   ]
  },
  {
   "cell_type": "code",
   "execution_count": null,
   "metadata": {},
   "outputs": [
    {
     "name": "stdout",
     "output_type": "stream",
     "text": [
      "DataFrame created from numpy array:\n",
      "          A         B         C\n",
      "0  0.596679  0.943445  0.801002\n",
      "1  0.355768  0.826034  0.578232\n",
      "2  0.604336  0.580039  0.816301\n",
      "3  0.695150  0.155134  0.123142\n",
      "4  0.815975  0.020756  0.214994\n",
      "\n",
      "Mean of each column (using pandas):\n",
      "A    0.613581\n",
      "B    0.505081\n",
      "C    0.506734\n",
      "dtype: float64\n",
      "\n",
      "Mean of each column (using numpy):\n",
      "[0.61358145 0.50508131 0.50673403]\n"
     ]
    }
   ],
   "source": [
    "import pandas as pd\n",
    "import numpy as np\n",
    "\n",
    "# Create a numpy array of random numbers (5 rows, 3 columns)\n",
    "array = np.random.rand(5, 3)\n",
    "\n",
    "# Convert the numpy array into a pandas DataFrame\n",
    "df = pd.DataFrame(array, columns=['A', 'B', 'C'])\n",
    "\n",
    "# Display the DataFrame\n",
    "print(\"DataFrame created from numpy array:\")\n",
    "print(df)\n",
    "\n",
    "# Calculate and print the mean of each column using pandas\n",
    "print(\"\\nMean of each column (using pandas):\")\n",
    "print(df.mean())\n",
    "\n",
    "# Calculate and print the mean of each column using numpy\n",
    "print(\"\\nMean of each column (using numpy):\")\n",
    "print(np.mean(array, axis=0))"
   ]
  },
  {
   "cell_type": "code",
   "execution_count": null,
   "metadata": {},
   "outputs": [],
   "source": []
  }
 ],
 "metadata": {
  "kernelspec": {
   "display_name": "venv",
   "language": "python",
   "name": "python3"
  },
  "language_info": {
   "codemirror_mode": {
    "name": "ipython",
    "version": 3
   },
   "file_extension": ".py",
   "mimetype": "text/x-python",
   "name": "python",
   "nbconvert_exporter": "python",
   "pygments_lexer": "ipython3",
   "version": "3.12.1"
  }
 },
 "nbformat": 4,
 "nbformat_minor": 2
}
